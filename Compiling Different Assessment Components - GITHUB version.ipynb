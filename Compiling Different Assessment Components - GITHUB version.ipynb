{
 "cells": [
  {
   "cell_type": "markdown",
   "metadata": {},
   "source": [
    "# Compiling Different Assessment Components\n",
    "\n",
    "Combine different CSV files which contain student scores from Quizzes. Make new CSV file which contains these scores and combines them to make an overall score.\n",
    "Also create histogram for each quiz and for the overall distribution of marks.\n",
    "Create descriptive statistics for each quiz and for overall distribution of marks (mean, mode, median, std, etc.) "
   ]
  },
  {
   "cell_type": "code",
   "execution_count": null,
   "metadata": {},
   "outputs": [],
   "source": [
    "import numpy as np\n",
    "import pandas as pd\n",
    "import seaborn as sns\n",
    "import matplotlib.pyplot as plt\n",
    "%matplotlib inline\n",
    "from functools import reduce\n",
    "import glob\n",
    "import os\n",
    "import docx"
   ]
  },
  {
   "cell_type": "markdown",
   "metadata": {},
   "source": [
    "## CSV\n",
    "\n",
    "### CSV Input"
   ]
  },
  {
   "cell_type": "code",
   "execution_count": null,
   "metadata": {},
   "outputs": [],
   "source": [
    "path = os.getcwd()\n",
    "all_files = glob.glob(path + \"/*.csv\")\n",
    "\n",
    "# IMPORTANT: remove last row in csv file either with the first for loop, or setting \"skipfooter = 1\" further below\n",
    "for file in all_files:\n",
    "    df = pd.read_csv(file, index_col=None, header=0)\n",
    "#REMOVING LAST ROW AS READING CSV files    \n",
    "    df['Quiz Name'] = os.path.basename(file)\n",
    "    df['Quiz Name'] = df['Quiz Name'].str[:6]\n",
    "    df = df[:-1]\n",
    "#    df = df.iloc[:-1 , :]\n",
    "    df.to_csv(file)\n",
    "\n",
    "col_list = [\"Surname\", \"First name\", \"Email address\", \"Grade/100.0\", \"Quiz Name\"]\n",
    "df_from_each_file = (pd.read_csv(file, usecols=col_list, index_col = False, skipfooter=0, engine='python') for file in all_files)\n",
    "concatenated_df = pd.concat(df_from_each_file, ignore_index = True)\n",
    "concatenated_df.replace('-', np.nan, inplace = True)\n",
    "concatenated_df.fillna(value = 0, inplace =True)\n",
    "concatenated_df['Grade/100.0'] = concatenated_df['Grade/100.0'].astype(float)"
   ]
  },
  {
   "cell_type": "code",
   "execution_count": null,
   "metadata": {},
   "outputs": [],
   "source": [
    "final_df = pd.pivot_table(concatenated_df, index = [\"Email address\", 'Surname', 'First name'], columns = [\"Quiz Name\"], values = \"Grade/100.0\")\n",
    "final_df.fillna(value = 0, inplace =True)\n",
    "final_df.columns = final_df.columns.get_level_values(0)\n",
    "final_df.columns = [''.join(col).strip() for col in final_df.columns.values]"
   ]
  },
  {
   "cell_type": "code",
   "execution_count": null,
   "metadata": {},
   "outputs": [],
   "source": [
    "final_df.reset_index(inplace=True)\n",
    "final_df.drop(['Email address'], axis=1, inplace = True)"
   ]
  },
  {
   "cell_type": "code",
   "execution_count": null,
   "metadata": {},
   "outputs": [],
   "source": [
    "final_df.sort_values(by='Surname', inplace = True)\n",
    "final_df['Mean'] = final_df.iloc[:, [2,3,4]].mean(axis=1)\n",
    "final_df['Mean'] = final_df['Mean'].round(1)"
   ]
  },
  {
   "cell_type": "markdown",
   "metadata": {},
   "source": [
    "### CSV Output"
   ]
  },
  {
   "cell_type": "code",
   "execution_count": null,
   "metadata": {},
   "outputs": [],
   "source": [
    "final_df.to_csv('Quiz_Scores.csv',index=False)"
   ]
  },
  {
   "cell_type": "code",
   "execution_count": null,
   "metadata": {},
   "outputs": [],
   "source": [
    "for column in final_df[['Quiz_1', 'Quiz_2', 'Quiz_3', 'Mean']]:\n",
    "    columnSeriesObj = final_df[column]\n",
    "    figuretoplot = sns.displot(data = columnSeriesObj)\n",
    "    figuretoplot.set_axis_labels(column + \" scores\")\n",
    "    figuretoplot.savefig(column + \".png\")"
   ]
  },
  {
   "cell_type": "code",
   "execution_count": null,
   "metadata": {},
   "outputs": [],
   "source": [
    "final_df.mask(final_df == 0)[['Quiz_1','Quiz_2', 'Quiz_3', 'Mean']].describe().applymap('{:,.1f}'.format)"
   ]
  }
 ],
 "metadata": {
  "kernelspec": {
   "display_name": "Python 3 (ipykernel)",
   "language": "python",
   "name": "python3"
  },
  "language_info": {
   "codemirror_mode": {
    "name": "ipython",
    "version": 3
   },
   "file_extension": ".py",
   "mimetype": "text/x-python",
   "name": "python",
   "nbconvert_exporter": "python",
   "pygments_lexer": "ipython3",
   "version": "3.9.7"
  }
 },
 "nbformat": 4,
 "nbformat_minor": 1
}
